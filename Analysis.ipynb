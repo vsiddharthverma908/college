{
 "cells": [
  {
   "cell_type": "markdown",
   "metadata": {},
   "source": [
    "<body>\n",
    "    <img src=\"Logo/sage_logo.jpeg\" width = \"150px\" height = \"100px\" alt = \"Sage University\">\n",
    "    <h1 style = \"font-family:Times New Roman; color:red; text-align:center; font-size: 40px;\">Reading, Cleaning, and Visualizing the real world project repository of Scala</h1>\n",
    "    <p style = \"font-family:Arial; color:orange; text-align:center; font-size: 20px;\">  Presented By:</p>\n",
    "    <p style = \"font-family:Verdana; font-size: 15px; list-style-type:square; text-align:center;\">\n",
    "        <b>SIDDHARTH VERMA</b></p>\n",
    "    <p style = \"color:orange; text-align:center; font-size: 20px;\">Under the Guidence of:</p>\n",
    "    <p style = \"font-family:Verdana; font-size: 20px; text-align:center;\">Prof. Sachin Patel</p>\n",
    "<hr>\n",
    "    <h2 style = \"font-family:Garamond; color:DeepSkyBlue ; text-align:center; padding-bottom: 20px; font-size:35px;\">Problem Statement</h2>\n",
    "    <ul style = \"list-style-type:circle;\">\n",
    "        <li>We are going to clean up and visualize the real world project, data receives from version control system (Git) and also from project hosting site (GitHub).</li>\n",
    "        <li>By using Jupyter notebook and the concepts of Data Science, we will find out who has had the most influence on its development and who are the experts. </li>\n",
    "        <li>We are using the data from 2011-2018 of GitHub (A project hosting site).</li>\n",
    "    </ul>\n",
    "<br>\n",
    "    <h2 style = \"font-family:Garamond; color: HotPink; text-align:center; padding-bottom: 20px; font-size:35px;\">Technology, System and Software Requirement</h2>\n",
    "    <ul style = \"list-style-type:circle;\">\n",
    "        <li><strong>Data science</strong> is a multidisciplinary field that unifies statistics, data analysis, machine learning and their related methods to extract knowledge and insights.</li>\n",
    "        <li><strong>Python</strong> is now the most popular programming language in data science. It’s easy to use, has great community support, and integrates well with other frameworks (e.g., web applications) in an engineering environment.</li>\n",
    "        <li>There are three fundamental Python libraries: <b>pandas</b> and <b>matplotlib</b>.</li>\n",
    "        <li>The software <strong>Jupyter Notebook</strong> is used in our project, with <b>Python 3</b> version.</li>\n",
    "        <li>Jupyter Notebooks can work on <strong>cloud</strong> basis as well as <b>system</b> basis. Requirements for Jupyter Notebook are written below:-\n",
    "            <ol>\n",
    "                <li>Memory and disk space required per user: <b>1GB RAM + 1GB of disk + . 5 CPU core</b>.</li>\n",
    "                <li>Server overhead: 2-4GB or 10% system overhead (whatever is larger), . 5 CPU cores, 10GB disk space.</li>\n",
    "                <li>A mobile phone or computer must needed which supports <b>firefox</b>, <b>chrome</b> or any advanced browser.</li>\n",
    "                <li>Port requirements: <b>Port 8000</b> plus 5 unique, random ports per notebook.</li>\n",
    "            </ol> </li>\n",
    "    </ul>\n",
    "<img src = \"Logo/data-science.png\" width = \"600px\" height = \"200px\">\n",
    "<br>\n",
    "    <h2 style = \"font-family:Garamond; color:DeepSkyBlue ; text-align:center; padding-bottom: 20px; font-size: 35px; \">Introduction to Data Analysis</h2>\n",
    "    <p><strong>Data Analysis</strong> is a process of inspecting, cleansing, \n",
    "        transforming, and modeling data with the goal of discovering, informing conclusions and supporting decision – making.</p>\n",
    "    <img src = \"Logo/Data-Analysis.png\" width = \"400px\" height = \"200px\" alt = \"Data-Analysis\">\n",
    "<br>\n",
    "    <h2 style = \"font-family:Garamond; color: HotPink ; text-align:center; padding-bottom: 20px; font-size: 35px;\">What is GitHub? </h2>\n",
    "    <p><strong>GitHub</strong> is a project hosting site. Millions of developers and companies build, ship, and maintain their software on GitHub. GitHub is the largest and most advanced development platform in the world.</p>\n",
    "    <img src = \"Logo/GitHub-Logo.png\" height = \"200px\" width = \"400px\" alt = \"GitHub\">\n",
    "<br>\n",
    "    <h2 style = \"font-family:Garamond; color:DeepSkyBlue ; text-align:center; padding-bottom: 20px; font-size: 35px;\">Data used for analysis. </h2>\n",
    "    <ul style = \"list-style-type: circle;\">\n",
    "        <li>The data set used is extracted from GitHub, which is a project hosting site.</li>\n",
    "        <li>The data set is comprised of three files which are in .csv (Comma-seperated values) format.</li> \n",
    "        <li>The files which store data is arround 4-5 MegaBytes.</li>\n",
    "        <li>The data used is a <b>Structured data</b>, which is highly specific and is stored in a predefined format.</li>\n",
    "    </ul>\n",
    "    <h2 style = \"font-family:Garamond; color: HotPink ; text-align:center; padding-bottom: 20px; font-size: 35px;\">Essential Details of Data's.</h2>\n",
    "    <ol>\n",
    "        <li><code>pulls_2011-2013.csv</code> contains the basic information about the pull requests, and spans from the end of 2011 up to (but not including) 2014. The data contain \"pid\" as unique id of user, \"user\" as user name of user on GitHub and \"date\" which is the time of repository.</li>\n",
    "        <li><code>pulls_2014-2018.csv</code> contains same information as above, and spans from 2014 up to 2018.</li>\n",
    "        <li><code>pull_files.csv</code> contains the files that were modified by each pull request. The file contains \"pid\" as unique user id and \"file\" as location of modified files.</li>\n",
    "    </ol>\n",
    "</body>"
   ]
  },
  {
   "cell_type": "code",
   "execution_count": 2,
   "metadata": {},
   "outputs": [],
   "source": [
    "# pandas imported\n",
    "import pandas as pd"
   ]
  },
  {
   "cell_type": "markdown",
   "metadata": {},
   "source": [
    "<h1 style = \"font-family:Garamond; color: Tomato; text-align:center; padding-bottom: 10px; font-size: 40px;\"><strong>Pandas</strong></h1>\n",
    "<p style = \"padding-bottom: 10px; text-align: justify;\">Pandas or Python Pandas is Python’s library for data analysis. Pandas has derived its name from <strong>“panel data system”</strong>, which is an ecometrics term for multi-dimensional, structured data sets. Today, Pandas has become a popular choice for data analysis. As you must be aware of that data analysis refers to process of evaluating big data sets using analytical and statistical tools so as to discover useful information and conclusions to support business decision-making. Pandas makes available various tools for data analysis and makes it a simple and easy process as compared to. other available tools.</p>"
   ]
  },
  {
   "cell_type": "code",
   "execution_count": 3,
   "metadata": {},
   "outputs": [
    {
     "data": {
      "text/html": [
       "<div>\n",
       "<style scoped>\n",
       "    .dataframe tbody tr th:only-of-type {\n",
       "        vertical-align: middle;\n",
       "    }\n",
       "\n",
       "    .dataframe tbody tr th {\n",
       "        vertical-align: top;\n",
       "    }\n",
       "\n",
       "    .dataframe thead th {\n",
       "        text-align: right;\n",
       "    }\n",
       "</style>\n",
       "<table border=\"1\" class=\"dataframe\">\n",
       "  <thead>\n",
       "    <tr style=\"text-align: right;\">\n",
       "      <th></th>\n",
       "      <th>pid</th>\n",
       "      <th>user</th>\n",
       "      <th>date</th>\n",
       "    </tr>\n",
       "  </thead>\n",
       "  <tbody>\n",
       "    <tr>\n",
       "      <th>0</th>\n",
       "      <td>11166973</td>\n",
       "      <td>VladimirNik</td>\n",
       "      <td>2013-12-31T23:10:55Z</td>\n",
       "    </tr>\n",
       "    <tr>\n",
       "      <th>1</th>\n",
       "      <td>11161892</td>\n",
       "      <td>Ichoran</td>\n",
       "      <td>2013-12-31T16:55:47Z</td>\n",
       "    </tr>\n",
       "    <tr>\n",
       "      <th>2</th>\n",
       "      <td>11153894</td>\n",
       "      <td>Ichoran</td>\n",
       "      <td>2013-12-31T02:41:13Z</td>\n",
       "    </tr>\n",
       "    <tr>\n",
       "      <th>3</th>\n",
       "      <td>11151917</td>\n",
       "      <td>rklaehn</td>\n",
       "      <td>2013-12-30T23:45:47Z</td>\n",
       "    </tr>\n",
       "    <tr>\n",
       "      <th>4</th>\n",
       "      <td>11131244</td>\n",
       "      <td>qerub</td>\n",
       "      <td>2013-12-29T17:21:01Z</td>\n",
       "    </tr>\n",
       "  </tbody>\n",
       "</table>\n",
       "</div>"
      ],
      "text/plain": [
       "        pid         user                  date\n",
       "0  11166973  VladimirNik  2013-12-31T23:10:55Z\n",
       "1  11161892      Ichoran  2013-12-31T16:55:47Z\n",
       "2  11153894      Ichoran  2013-12-31T02:41:13Z\n",
       "3  11151917      rklaehn  2013-12-30T23:45:47Z\n",
       "4  11131244        qerub  2013-12-29T17:21:01Z"
      ]
     },
     "execution_count": 3,
     "metadata": {},
     "output_type": "execute_result"
    }
   ],
   "source": [
    "data1 = pd.read_csv(r'Data/pulls_2011-2013.csv')\n",
    "# file pulls_2011-2013 is imported in object data1\n",
    "data1.head()"
   ]
  },
  {
   "cell_type": "code",
   "execution_count": 4,
   "metadata": {},
   "outputs": [
    {
     "data": {
      "text/html": [
       "<div>\n",
       "<style scoped>\n",
       "    .dataframe tbody tr th:only-of-type {\n",
       "        vertical-align: middle;\n",
       "    }\n",
       "\n",
       "    .dataframe tbody tr th {\n",
       "        vertical-align: top;\n",
       "    }\n",
       "\n",
       "    .dataframe thead th {\n",
       "        text-align: right;\n",
       "    }\n",
       "</style>\n",
       "<table border=\"1\" class=\"dataframe\">\n",
       "  <thead>\n",
       "    <tr style=\"text-align: right;\">\n",
       "      <th></th>\n",
       "      <th>pid</th>\n",
       "      <th>user</th>\n",
       "      <th>date</th>\n",
       "    </tr>\n",
       "  </thead>\n",
       "  <tbody>\n",
       "    <tr>\n",
       "      <th>0</th>\n",
       "      <td>163314316</td>\n",
       "      <td>hrhino</td>\n",
       "      <td>2018-01-16T23:29:16Z</td>\n",
       "    </tr>\n",
       "    <tr>\n",
       "      <th>1</th>\n",
       "      <td>163061502</td>\n",
       "      <td>joroKr21</td>\n",
       "      <td>2018-01-15T23:44:52Z</td>\n",
       "    </tr>\n",
       "    <tr>\n",
       "      <th>2</th>\n",
       "      <td>163057333</td>\n",
       "      <td>mkeskells</td>\n",
       "      <td>2018-01-15T23:05:06Z</td>\n",
       "    </tr>\n",
       "    <tr>\n",
       "      <th>3</th>\n",
       "      <td>162985594</td>\n",
       "      <td>lrytz</td>\n",
       "      <td>2018-01-15T15:52:39Z</td>\n",
       "    </tr>\n",
       "    <tr>\n",
       "      <th>4</th>\n",
       "      <td>162838837</td>\n",
       "      <td>zuvizudar</td>\n",
       "      <td>2018-01-14T19:16:16Z</td>\n",
       "    </tr>\n",
       "  </tbody>\n",
       "</table>\n",
       "</div>"
      ],
      "text/plain": [
       "         pid       user                  date\n",
       "0  163314316     hrhino  2018-01-16T23:29:16Z\n",
       "1  163061502   joroKr21  2018-01-15T23:44:52Z\n",
       "2  163057333  mkeskells  2018-01-15T23:05:06Z\n",
       "3  162985594      lrytz  2018-01-15T15:52:39Z\n",
       "4  162838837  zuvizudar  2018-01-14T19:16:16Z"
      ]
     },
     "execution_count": 4,
     "metadata": {},
     "output_type": "execute_result"
    }
   ],
   "source": [
    "data2 = pd.read_csv(r'Data/pulls_2014-2018.csv')\n",
    "# file pulls_2014-2018 is imported in object data2\n",
    "data2.head()"
   ]
  },
  {
   "cell_type": "code",
   "execution_count": 5,
   "metadata": {},
   "outputs": [
    {
     "data": {
      "text/html": [
       "<div>\n",
       "<style scoped>\n",
       "    .dataframe tbody tr th:only-of-type {\n",
       "        vertical-align: middle;\n",
       "    }\n",
       "\n",
       "    .dataframe tbody tr th {\n",
       "        vertical-align: top;\n",
       "    }\n",
       "\n",
       "    .dataframe thead th {\n",
       "        text-align: right;\n",
       "    }\n",
       "</style>\n",
       "<table border=\"1\" class=\"dataframe\">\n",
       "  <thead>\n",
       "    <tr style=\"text-align: right;\">\n",
       "      <th></th>\n",
       "      <th>pid</th>\n",
       "      <th>file</th>\n",
       "    </tr>\n",
       "  </thead>\n",
       "  <tbody>\n",
       "    <tr>\n",
       "      <th>0</th>\n",
       "      <td>163314316</td>\n",
       "      <td>test/files/pos/t5638/Among.java</td>\n",
       "    </tr>\n",
       "    <tr>\n",
       "      <th>1</th>\n",
       "      <td>163314316</td>\n",
       "      <td>test/files/pos/t5638/Usage.scala</td>\n",
       "    </tr>\n",
       "    <tr>\n",
       "      <th>2</th>\n",
       "      <td>163314316</td>\n",
       "      <td>test/files/pos/t9291.scala</td>\n",
       "    </tr>\n",
       "    <tr>\n",
       "      <th>3</th>\n",
       "      <td>163314316</td>\n",
       "      <td>test/files/run/t8348.check</td>\n",
       "    </tr>\n",
       "    <tr>\n",
       "      <th>4</th>\n",
       "      <td>163314316</td>\n",
       "      <td>test/files/run/t8348/TableColumn.java</td>\n",
       "    </tr>\n",
       "  </tbody>\n",
       "</table>\n",
       "</div>"
      ],
      "text/plain": [
       "         pid                                   file\n",
       "0  163314316        test/files/pos/t5638/Among.java\n",
       "1  163314316       test/files/pos/t5638/Usage.scala\n",
       "2  163314316             test/files/pos/t9291.scala\n",
       "3  163314316             test/files/run/t8348.check\n",
       "4  163314316  test/files/run/t8348/TableColumn.java"
      ]
     },
     "execution_count": 5,
     "metadata": {},
     "output_type": "execute_result"
    }
   ],
   "source": [
    "data3 = pd.read_csv(r'Data/pull_files.csv')\n",
    "# file pull_files is imported in object data3\n",
    "data3.head()"
   ]
  },
  {
   "cell_type": "markdown",
   "metadata": {},
   "source": [
    "<h2 style = \"font-family: Trebuchet MS; color: Tomato; text-align:center; padding-bottom: 10px\">Preparing the data</h2>\n",
    "<p style = \"padding-bottom: 10px\">So, we just imported the data as <code>data1</code>, <code>data2</code> and <code>data3</code> then, we will need to combine the data from the two separate pull DataFrames i.e., <code>data1</code> and <code>data2</code>. </p>"
   ]
  },
  {
   "cell_type": "code",
   "execution_count": 6,
   "metadata": {},
   "outputs": [
    {
     "data": {
      "text/html": [
       "<div>\n",
       "<style scoped>\n",
       "    .dataframe tbody tr th:only-of-type {\n",
       "        vertical-align: middle;\n",
       "    }\n",
       "\n",
       "    .dataframe tbody tr th {\n",
       "        vertical-align: top;\n",
       "    }\n",
       "\n",
       "    .dataframe thead th {\n",
       "        text-align: right;\n",
       "    }\n",
       "</style>\n",
       "<table border=\"1\" class=\"dataframe\">\n",
       "  <thead>\n",
       "    <tr style=\"text-align: right;\">\n",
       "      <th></th>\n",
       "      <th>pid</th>\n",
       "      <th>user</th>\n",
       "      <th>date</th>\n",
       "    </tr>\n",
       "  </thead>\n",
       "  <tbody>\n",
       "    <tr>\n",
       "      <th>0</th>\n",
       "      <td>11166973</td>\n",
       "      <td>VladimirNik</td>\n",
       "      <td>2013-12-31T23:10:55Z</td>\n",
       "    </tr>\n",
       "    <tr>\n",
       "      <th>1</th>\n",
       "      <td>11161892</td>\n",
       "      <td>Ichoran</td>\n",
       "      <td>2013-12-31T16:55:47Z</td>\n",
       "    </tr>\n",
       "    <tr>\n",
       "      <th>2</th>\n",
       "      <td>11153894</td>\n",
       "      <td>Ichoran</td>\n",
       "      <td>2013-12-31T02:41:13Z</td>\n",
       "    </tr>\n",
       "    <tr>\n",
       "      <th>3</th>\n",
       "      <td>11151917</td>\n",
       "      <td>rklaehn</td>\n",
       "      <td>2013-12-30T23:45:47Z</td>\n",
       "    </tr>\n",
       "    <tr>\n",
       "      <th>4</th>\n",
       "      <td>11131244</td>\n",
       "      <td>qerub</td>\n",
       "      <td>2013-12-29T17:21:01Z</td>\n",
       "    </tr>\n",
       "  </tbody>\n",
       "</table>\n",
       "</div>"
      ],
      "text/plain": [
       "        pid         user                  date\n",
       "0  11166973  VladimirNik  2013-12-31T23:10:55Z\n",
       "1  11161892      Ichoran  2013-12-31T16:55:47Z\n",
       "2  11153894      Ichoran  2013-12-31T02:41:13Z\n",
       "3  11151917      rklaehn  2013-12-30T23:45:47Z\n",
       "4  11131244        qerub  2013-12-29T17:21:01Z"
      ]
     },
     "execution_count": 6,
     "metadata": {},
     "output_type": "execute_result"
    }
   ],
   "source": [
    "full_data = data1.append(data2, ignore_index = True)\n",
    "# New object full_data stores data from 2011 to 2018\n",
    "full_data.head()"
   ]
  },
  {
   "cell_type": "markdown",
   "metadata": {},
   "source": [
    "<h2 style = \"font-family:Trebuchet MS; color: Tomato; text-align:center; padding-bottom: 10px\">Merging the DataFrames</h2>\n",
    "<p style = \"padding-bottom: 10px;\">The data extracted comes in two separate files i.e., <code>data3</code> and <code>full_data</code>. Merging the two DataFrames make it easier for us to analyze the data in next tasks or analysing.</p>"
   ]
  },
  {
   "cell_type": "code",
   "execution_count": 7,
   "metadata": {},
   "outputs": [
    {
     "data": {
      "text/html": [
       "<div>\n",
       "<style scoped>\n",
       "    .dataframe tbody tr th:only-of-type {\n",
       "        vertical-align: middle;\n",
       "    }\n",
       "\n",
       "    .dataframe tbody tr th {\n",
       "        vertical-align: top;\n",
       "    }\n",
       "\n",
       "    .dataframe thead th {\n",
       "        text-align: right;\n",
       "    }\n",
       "</style>\n",
       "<table border=\"1\" class=\"dataframe\">\n",
       "  <thead>\n",
       "    <tr style=\"text-align: right;\">\n",
       "      <th></th>\n",
       "      <th>pid</th>\n",
       "      <th>user</th>\n",
       "      <th>date</th>\n",
       "      <th>file</th>\n",
       "    </tr>\n",
       "  </thead>\n",
       "  <tbody>\n",
       "    <tr>\n",
       "      <th>0</th>\n",
       "      <td>11166973</td>\n",
       "      <td>VladimirNik</td>\n",
       "      <td>2013-12-31T23:10:55Z</td>\n",
       "      <td>src/reflect/scala/reflect/api/Printers.scala</td>\n",
       "    </tr>\n",
       "    <tr>\n",
       "      <th>1</th>\n",
       "      <td>11166973</td>\n",
       "      <td>VladimirNik</td>\n",
       "      <td>2013-12-31T23:10:55Z</td>\n",
       "      <td>src/reflect/scala/reflect/internal/Printers.scala</td>\n",
       "    </tr>\n",
       "    <tr>\n",
       "      <th>2</th>\n",
       "      <td>11166973</td>\n",
       "      <td>VladimirNik</td>\n",
       "      <td>2013-12-31T23:10:55Z</td>\n",
       "      <td>test/files/run/reify_ann3.check</td>\n",
       "    </tr>\n",
       "    <tr>\n",
       "      <th>3</th>\n",
       "      <td>11166973</td>\n",
       "      <td>VladimirNik</td>\n",
       "      <td>2013-12-31T23:10:55Z</td>\n",
       "      <td>test/junit/scala/reflect/internal/PrintersTest...</td>\n",
       "    </tr>\n",
       "    <tr>\n",
       "      <th>4</th>\n",
       "      <td>11161892</td>\n",
       "      <td>Ichoran</td>\n",
       "      <td>2013-12-31T16:55:47Z</td>\n",
       "      <td>src/library/scala/collection/mutable/ArrayOps....</td>\n",
       "    </tr>\n",
       "  </tbody>\n",
       "</table>\n",
       "</div>"
      ],
      "text/plain": [
       "        pid         user                  date  \\\n",
       "0  11166973  VladimirNik  2013-12-31T23:10:55Z   \n",
       "1  11166973  VladimirNik  2013-12-31T23:10:55Z   \n",
       "2  11166973  VladimirNik  2013-12-31T23:10:55Z   \n",
       "3  11166973  VladimirNik  2013-12-31T23:10:55Z   \n",
       "4  11161892      Ichoran  2013-12-31T16:55:47Z   \n",
       "\n",
       "                                                file  \n",
       "0       src/reflect/scala/reflect/api/Printers.scala  \n",
       "1  src/reflect/scala/reflect/internal/Printers.scala  \n",
       "2                    test/files/run/reify_ann3.check  \n",
       "3  test/junit/scala/reflect/internal/PrintersTest...  \n",
       "4  src/library/scala/collection/mutable/ArrayOps....  "
      ]
     },
     "execution_count": 7,
     "metadata": {},
     "output_type": "execute_result"
    }
   ],
   "source": [
    "# merging the data3 in full_data on the 'pid'\n",
    "new_data = full_data.merge(data3, on = 'pid')\n",
    "new_data.head()"
   ]
  },
  {
   "cell_type": "markdown",
   "metadata": {},
   "source": [
    "<h2 style = \"font-family:Trebuchet MS; color: Tomato; text-align:center; padding-bottom: 10px\">Cleaning the data</h2>\n",
    "<p style = \"text-align: justify;\">\n",
    "The raw data extracted from GitHub contains dates in the <strong>ISO8601</strong>(Representation of dates and times is an international standard covering the exchange of date- and time-related data) format. However, <code>pandas</code> imports them as regular strings. To make our analysis easier, we need to convert the strings into Python's <code>DateTime</code> objects. <code>DateTime</code> objects have the important property that they can be compared and sorted.</p>\n",
    "<p style = \"text-align: justify; padding-bottom: 10px;\">The GitHub pull request times are all in UTC (also known as Coordinated Universal Time). To make comparisons easy, we should convert all times to UTC. </p>"
   ]
  },
  {
   "cell_type": "code",
   "execution_count": 8,
   "metadata": {},
   "outputs": [
    {
     "data": {
      "text/html": [
       "<div>\n",
       "<style scoped>\n",
       "    .dataframe tbody tr th:only-of-type {\n",
       "        vertical-align: middle;\n",
       "    }\n",
       "\n",
       "    .dataframe tbody tr th {\n",
       "        vertical-align: top;\n",
       "    }\n",
       "\n",
       "    .dataframe thead th {\n",
       "        text-align: right;\n",
       "    }\n",
       "</style>\n",
       "<table border=\"1\" class=\"dataframe\">\n",
       "  <thead>\n",
       "    <tr style=\"text-align: right;\">\n",
       "      <th></th>\n",
       "      <th>pid</th>\n",
       "      <th>user</th>\n",
       "      <th>date</th>\n",
       "      <th>file</th>\n",
       "    </tr>\n",
       "  </thead>\n",
       "  <tbody>\n",
       "    <tr>\n",
       "      <th>0</th>\n",
       "      <td>11166973</td>\n",
       "      <td>VladimirNik</td>\n",
       "      <td>2013-12-31 23:10:55+00:00</td>\n",
       "      <td>src/reflect/scala/reflect/api/Printers.scala</td>\n",
       "    </tr>\n",
       "    <tr>\n",
       "      <th>1</th>\n",
       "      <td>11166973</td>\n",
       "      <td>VladimirNik</td>\n",
       "      <td>2013-12-31 23:10:55+00:00</td>\n",
       "      <td>src/reflect/scala/reflect/internal/Printers.scala</td>\n",
       "    </tr>\n",
       "    <tr>\n",
       "      <th>2</th>\n",
       "      <td>11166973</td>\n",
       "      <td>VladimirNik</td>\n",
       "      <td>2013-12-31 23:10:55+00:00</td>\n",
       "      <td>test/files/run/reify_ann3.check</td>\n",
       "    </tr>\n",
       "    <tr>\n",
       "      <th>3</th>\n",
       "      <td>11166973</td>\n",
       "      <td>VladimirNik</td>\n",
       "      <td>2013-12-31 23:10:55+00:00</td>\n",
       "      <td>test/junit/scala/reflect/internal/PrintersTest...</td>\n",
       "    </tr>\n",
       "    <tr>\n",
       "      <th>4</th>\n",
       "      <td>11161892</td>\n",
       "      <td>Ichoran</td>\n",
       "      <td>2013-12-31 16:55:47+00:00</td>\n",
       "      <td>src/library/scala/collection/mutable/ArrayOps....</td>\n",
       "    </tr>\n",
       "  </tbody>\n",
       "</table>\n",
       "</div>"
      ],
      "text/plain": [
       "        pid         user                      date  \\\n",
       "0  11166973  VladimirNik 2013-12-31 23:10:55+00:00   \n",
       "1  11166973  VladimirNik 2013-12-31 23:10:55+00:00   \n",
       "2  11166973  VladimirNik 2013-12-31 23:10:55+00:00   \n",
       "3  11166973  VladimirNik 2013-12-31 23:10:55+00:00   \n",
       "4  11161892      Ichoran 2013-12-31 16:55:47+00:00   \n",
       "\n",
       "                                                file  \n",
       "0       src/reflect/scala/reflect/api/Printers.scala  \n",
       "1  src/reflect/scala/reflect/internal/Printers.scala  \n",
       "2                    test/files/run/reify_ann3.check  \n",
       "3  test/junit/scala/reflect/internal/PrintersTest...  \n",
       "4  src/library/scala/collection/mutable/ArrayOps....  "
      ]
     },
     "execution_count": 8,
     "metadata": {},
     "output_type": "execute_result"
    }
   ],
   "source": [
    "# Converting date and time in UTC format\n",
    "new_data['date']=pd.to_datetime(new_data['date'],utc=True)\n",
    "new_data.head()"
   ]
  },
  {
   "cell_type": "code",
   "execution_count": 9,
   "metadata": {},
   "outputs": [
    {
     "data": {
      "text/html": [
       "<div>\n",
       "<style scoped>\n",
       "    .dataframe tbody tr th:only-of-type {\n",
       "        vertical-align: middle;\n",
       "    }\n",
       "\n",
       "    .dataframe tbody tr th {\n",
       "        vertical-align: top;\n",
       "    }\n",
       "\n",
       "    .dataframe thead th {\n",
       "        text-align: right;\n",
       "    }\n",
       "</style>\n",
       "<table border=\"1\" class=\"dataframe\">\n",
       "  <thead>\n",
       "    <tr style=\"text-align: right;\">\n",
       "      <th></th>\n",
       "      <th>pid</th>\n",
       "      <th>user</th>\n",
       "      <th>date</th>\n",
       "      <th>file</th>\n",
       "      <th>month</th>\n",
       "    </tr>\n",
       "  </thead>\n",
       "  <tbody>\n",
       "    <tr>\n",
       "      <th>0</th>\n",
       "      <td>11166973</td>\n",
       "      <td>VladimirNik</td>\n",
       "      <td>2013-12-31 23:10:55+00:00</td>\n",
       "      <td>src/reflect/scala/reflect/api/Printers.scala</td>\n",
       "      <td>12</td>\n",
       "    </tr>\n",
       "    <tr>\n",
       "      <th>1</th>\n",
       "      <td>11166973</td>\n",
       "      <td>VladimirNik</td>\n",
       "      <td>2013-12-31 23:10:55+00:00</td>\n",
       "      <td>src/reflect/scala/reflect/internal/Printers.scala</td>\n",
       "      <td>12</td>\n",
       "    </tr>\n",
       "    <tr>\n",
       "      <th>2</th>\n",
       "      <td>11166973</td>\n",
       "      <td>VladimirNik</td>\n",
       "      <td>2013-12-31 23:10:55+00:00</td>\n",
       "      <td>test/files/run/reify_ann3.check</td>\n",
       "      <td>12</td>\n",
       "    </tr>\n",
       "    <tr>\n",
       "      <th>3</th>\n",
       "      <td>11166973</td>\n",
       "      <td>VladimirNik</td>\n",
       "      <td>2013-12-31 23:10:55+00:00</td>\n",
       "      <td>test/junit/scala/reflect/internal/PrintersTest...</td>\n",
       "      <td>12</td>\n",
       "    </tr>\n",
       "    <tr>\n",
       "      <th>4</th>\n",
       "      <td>11161892</td>\n",
       "      <td>Ichoran</td>\n",
       "      <td>2013-12-31 16:55:47+00:00</td>\n",
       "      <td>src/library/scala/collection/mutable/ArrayOps....</td>\n",
       "      <td>12</td>\n",
       "    </tr>\n",
       "  </tbody>\n",
       "</table>\n",
       "</div>"
      ],
      "text/plain": [
       "        pid         user                      date  \\\n",
       "0  11166973  VladimirNik 2013-12-31 23:10:55+00:00   \n",
       "1  11166973  VladimirNik 2013-12-31 23:10:55+00:00   \n",
       "2  11166973  VladimirNik 2013-12-31 23:10:55+00:00   \n",
       "3  11166973  VladimirNik 2013-12-31 23:10:55+00:00   \n",
       "4  11161892      Ichoran 2013-12-31 16:55:47+00:00   \n",
       "\n",
       "                                                file  month  \n",
       "0       src/reflect/scala/reflect/api/Printers.scala     12  \n",
       "1  src/reflect/scala/reflect/internal/Printers.scala     12  \n",
       "2                    test/files/run/reify_ann3.check     12  \n",
       "3  test/junit/scala/reflect/internal/PrintersTest...     12  \n",
       "4  src/library/scala/collection/mutable/ArrayOps....     12  "
      ]
     },
     "execution_count": 9,
     "metadata": {},
     "output_type": "execute_result"
    }
   ],
   "source": [
    "# Extracting month in new column 'month'\n",
    "new_data['month']=new_data['date'].dt.month\n",
    "new_data.head()"
   ]
  },
  {
   "cell_type": "code",
   "execution_count": 10,
   "metadata": {
    "scrolled": false
   },
   "outputs": [
    {
     "data": {
      "text/html": [
       "<div>\n",
       "<style scoped>\n",
       "    .dataframe tbody tr th:only-of-type {\n",
       "        vertical-align: middle;\n",
       "    }\n",
       "\n",
       "    .dataframe tbody tr th {\n",
       "        vertical-align: top;\n",
       "    }\n",
       "\n",
       "    .dataframe thead th {\n",
       "        text-align: right;\n",
       "    }\n",
       "</style>\n",
       "<table border=\"1\" class=\"dataframe\">\n",
       "  <thead>\n",
       "    <tr style=\"text-align: right;\">\n",
       "      <th></th>\n",
       "      <th>pid</th>\n",
       "      <th>user</th>\n",
       "      <th>date</th>\n",
       "      <th>file</th>\n",
       "      <th>month</th>\n",
       "      <th>year</th>\n",
       "    </tr>\n",
       "  </thead>\n",
       "  <tbody>\n",
       "    <tr>\n",
       "      <th>0</th>\n",
       "      <td>11166973</td>\n",
       "      <td>VladimirNik</td>\n",
       "      <td>2013-12-31 23:10:55+00:00</td>\n",
       "      <td>src/reflect/scala/reflect/api/Printers.scala</td>\n",
       "      <td>12</td>\n",
       "      <td>2013</td>\n",
       "    </tr>\n",
       "    <tr>\n",
       "      <th>1</th>\n",
       "      <td>11166973</td>\n",
       "      <td>VladimirNik</td>\n",
       "      <td>2013-12-31 23:10:55+00:00</td>\n",
       "      <td>src/reflect/scala/reflect/internal/Printers.scala</td>\n",
       "      <td>12</td>\n",
       "      <td>2013</td>\n",
       "    </tr>\n",
       "    <tr>\n",
       "      <th>2</th>\n",
       "      <td>11166973</td>\n",
       "      <td>VladimirNik</td>\n",
       "      <td>2013-12-31 23:10:55+00:00</td>\n",
       "      <td>test/files/run/reify_ann3.check</td>\n",
       "      <td>12</td>\n",
       "      <td>2013</td>\n",
       "    </tr>\n",
       "    <tr>\n",
       "      <th>3</th>\n",
       "      <td>11166973</td>\n",
       "      <td>VladimirNik</td>\n",
       "      <td>2013-12-31 23:10:55+00:00</td>\n",
       "      <td>test/junit/scala/reflect/internal/PrintersTest...</td>\n",
       "      <td>12</td>\n",
       "      <td>2013</td>\n",
       "    </tr>\n",
       "    <tr>\n",
       "      <th>4</th>\n",
       "      <td>11161892</td>\n",
       "      <td>Ichoran</td>\n",
       "      <td>2013-12-31 16:55:47+00:00</td>\n",
       "      <td>src/library/scala/collection/mutable/ArrayOps....</td>\n",
       "      <td>12</td>\n",
       "      <td>2013</td>\n",
       "    </tr>\n",
       "  </tbody>\n",
       "</table>\n",
       "</div>"
      ],
      "text/plain": [
       "        pid         user                      date  \\\n",
       "0  11166973  VladimirNik 2013-12-31 23:10:55+00:00   \n",
       "1  11166973  VladimirNik 2013-12-31 23:10:55+00:00   \n",
       "2  11166973  VladimirNik 2013-12-31 23:10:55+00:00   \n",
       "3  11166973  VladimirNik 2013-12-31 23:10:55+00:00   \n",
       "4  11161892      Ichoran 2013-12-31 16:55:47+00:00   \n",
       "\n",
       "                                                file  month  year  \n",
       "0       src/reflect/scala/reflect/api/Printers.scala     12  2013  \n",
       "1  src/reflect/scala/reflect/internal/Printers.scala     12  2013  \n",
       "2                    test/files/run/reify_ann3.check     12  2013  \n",
       "3  test/junit/scala/reflect/internal/PrintersTest...     12  2013  \n",
       "4  src/library/scala/collection/mutable/ArrayOps....     12  2013  "
      ]
     },
     "execution_count": 10,
     "metadata": {},
     "output_type": "execute_result"
    }
   ],
   "source": [
    "# Extracting year in new column 'year'\n",
    "new_data['year']=new_data['date'].dt.year\n",
    "new_data.head()"
   ]
  },
  {
   "cell_type": "markdown",
   "metadata": {},
   "source": [
    "<h2 style = \"font-family:Trebuchet MS; color: Tomato; text-align:center; padding-bottom: 10px\">Grouping the data</h2>\n",
    "<p>We will calculate the number of pull requests submitted each (calendar) month during the project's lifetime. For this the data will grouped on <code>year</code> and <code>month</code> to perform better visualization. </p>"
   ]
  },
  {
   "cell_type": "code",
   "execution_count": 11,
   "metadata": {},
   "outputs": [
    {
     "data": {
      "text/plain": [
       "month  year\n",
       "1      2012     489\n",
       "       2013    3717\n",
       "       2014    1140\n",
       "       2015     732\n",
       "       2016     640\n",
       "               ... \n",
       "12     2013    1692\n",
       "       2014    1001\n",
       "       2015     616\n",
       "       2016     468\n",
       "       2017     224\n",
       "Name: pid, Length: 74, dtype: int64"
      ]
     },
     "execution_count": 11,
     "metadata": {},
     "output_type": "execute_result"
    }
   ],
   "source": [
    "# object count is created that store repository makes per month\n",
    "count=new_data.groupby(['month','year'])['pid'].count()\n",
    "count"
   ]
  },
  {
   "cell_type": "markdown",
   "metadata": {},
   "source": [
    "<h1 style = \"font-family:Garamond; color: YellowGreen; text-align:center; padding-bottom: 10px; font-size: 40px;\"><strong>Data Visualization</strong></h1>\n",
    "<p style = \"padding-bottom: 10px; text-align: justify;\"><strong>Data visualization</strong> basically refers to the graphical or visual representation of information and data using visual elements like <code>charts</code>, <code>graphs</code>, and <code>maps</code> etc. Data visualization is immensely useful in decision making. Data visualization unveils patterns, trends, outliers, correlations etc. in the data, and thereby helps decision makers understand the meaning of data to drive <strong>business decisions<strong>.</p>\n",
    "<img src = \"Logo/data-visualization.png\" width = \"300\" height = \"100\">"
   ]
  },
  {
   "cell_type": "code",
   "execution_count": 12,
   "metadata": {},
   "outputs": [],
   "source": [
    "# Matplotlib imported\n",
    "import matplotlib.pyplot as plt"
   ]
  },
  {
   "cell_type": "markdown",
   "metadata": {},
   "source": [
    "<h1 style = \"font-family: Garamond; color: YellowGreen; text-align:center; padding-bottom: 10px; font-size: 40px;\">Matplotlib</h1>\n",
    "<p>For data visualization in Python, the <strong>Matplotlib</strong> library’s <strong>Pyplot</strong> interface is used.</p>\n",
    "<p style = \"padding-bottom: 10px; text-align: justify;\">The matplotlib is a Python library that provides many interfaces and functionality for <code>2D-graphics</code> similar to <strong>MATLAB’s</strong> in various forms. In short, you can call matplotlib as a high quality plotting library of Python. It provides both a very quick way to visualize data from Python and publication-quality figures in many formats. The matplotlib library offers many different named collections of methods; PyPlot is one such interface. PyPlot is a collection of methods within matplotlib which allows user to construct 2D plots easily and interactively. PyPlot essentially reproduces plotting functions and behavior of MATLAB.</p>"
   ]
  },
  {
   "cell_type": "markdown",
   "metadata": {},
   "source": [
    "<p>\n",
    "    The object <code>count</code> stores data as repository per month between many year's. Using that object we are going to see visual representation of creating reository in all subject (scala, java, txt, etc) with respect to months and years.\n",
    "</p>"
   ]
  },
  {
   "cell_type": "code",
   "execution_count": 13,
   "metadata": {},
   "outputs": [
    {
     "data": {
      "text/plain": [
       "Text(0, 0.5, 'Pid')"
      ]
     },
     "execution_count": 13,
     "metadata": {},
     "output_type": "execute_result"
    },
    {
     "data": {
      "image/png": "[encoded data removed]",
      "text/plain": [
       "<Figure size 1728x720 with 1 Axes>"
      ]
     },
     "metadata": {
      "needs_background": "light"
     },
     "output_type": "display_data"
    }
   ],
   "source": [
    "# using plot function we are using to represent all stuf of object count\n",
    "count.plot(kind='bar',figsize=(24,10),color='HotPink',fontsize=15)\n",
    "\n",
    "# Title declared for object count\n",
    "plt.title('All Project Repository', fontsize=40, color=\"Tomato\", fontname = \"Courier New\")\n",
    "\n",
    "# labelling the chart\n",
    "plt.xlabel('Date', fontsize=30, color=\"HotPink\")\n",
    "plt.ylabel('Pid', fontsize=30, color=\"HotPink\")"
   ]
  },
  {
   "cell_type": "markdown",
   "metadata": {},
   "source": [
    "<h2 style = \"font-family:Trebuchet MS; color: YellowGreen; text-align:center; padding-bottom: 10px\">Data Minning</h2>\n",
    "<p>\n",
    "    We have seen the visual representation of all subject, but we are here to find who is expert in <strong>scala</strong> and hence from <code>new_data</code> we are going to extract data for only user's who work in scala most.\n",
    "</p>"
   ]
  },
  {
   "cell_type": "code",
   "execution_count": 14,
   "metadata": {},
   "outputs": [
    {
     "data": {
      "text/html": [
       "<div>\n",
       "<style scoped>\n",
       "    .dataframe tbody tr th:only-of-type {\n",
       "        vertical-align: middle;\n",
       "    }\n",
       "\n",
       "    .dataframe tbody tr th {\n",
       "        vertical-align: top;\n",
       "    }\n",
       "\n",
       "    .dataframe thead th {\n",
       "        text-align: right;\n",
       "    }\n",
       "</style>\n",
       "<table border=\"1\" class=\"dataframe\">\n",
       "  <thead>\n",
       "    <tr style=\"text-align: right;\">\n",
       "      <th></th>\n",
       "      <th>pid</th>\n",
       "      <th>user</th>\n",
       "      <th>date</th>\n",
       "      <th>file</th>\n",
       "      <th>month</th>\n",
       "      <th>year</th>\n",
       "    </tr>\n",
       "  </thead>\n",
       "  <tbody>\n",
       "    <tr>\n",
       "      <th>0</th>\n",
       "      <td>11166973</td>\n",
       "      <td>VladimirNik</td>\n",
       "      <td>2013-12-31 23:10:55+00:00</td>\n",
       "      <td>src/reflect/scala/reflect/api/Printers.scala</td>\n",
       "      <td>12</td>\n",
       "      <td>2013</td>\n",
       "    </tr>\n",
       "    <tr>\n",
       "      <th>1</th>\n",
       "      <td>11166973</td>\n",
       "      <td>VladimirNik</td>\n",
       "      <td>2013-12-31 23:10:55+00:00</td>\n",
       "      <td>src/reflect/scala/reflect/internal/Printers.scala</td>\n",
       "      <td>12</td>\n",
       "      <td>2013</td>\n",
       "    </tr>\n",
       "    <tr>\n",
       "      <th>2</th>\n",
       "      <td>11166973</td>\n",
       "      <td>VladimirNik</td>\n",
       "      <td>2013-12-31 23:10:55+00:00</td>\n",
       "      <td>test/junit/scala/reflect/internal/PrintersTest...</td>\n",
       "      <td>12</td>\n",
       "      <td>2013</td>\n",
       "    </tr>\n",
       "    <tr>\n",
       "      <th>3</th>\n",
       "      <td>11161892</td>\n",
       "      <td>Ichoran</td>\n",
       "      <td>2013-12-31 16:55:47+00:00</td>\n",
       "      <td>src/library/scala/collection/mutable/ArrayOps....</td>\n",
       "      <td>12</td>\n",
       "      <td>2013</td>\n",
       "    </tr>\n",
       "    <tr>\n",
       "      <th>4</th>\n",
       "      <td>11153894</td>\n",
       "      <td>Ichoran</td>\n",
       "      <td>2013-12-31 02:41:13+00:00</td>\n",
       "      <td>src/library/scala/collection/immutable/Numeric...</td>\n",
       "      <td>12</td>\n",
       "      <td>2013</td>\n",
       "    </tr>\n",
       "  </tbody>\n",
       "</table>\n",
       "</div>"
      ],
      "text/plain": [
       "        pid         user                      date  \\\n",
       "0  11166973  VladimirNik 2013-12-31 23:10:55+00:00   \n",
       "1  11166973  VladimirNik 2013-12-31 23:10:55+00:00   \n",
       "2  11166973  VladimirNik 2013-12-31 23:10:55+00:00   \n",
       "3  11161892      Ichoran 2013-12-31 16:55:47+00:00   \n",
       "4  11153894      Ichoran 2013-12-31 02:41:13+00:00   \n",
       "\n",
       "                                                file  month  year  \n",
       "0       src/reflect/scala/reflect/api/Printers.scala     12  2013  \n",
       "1  src/reflect/scala/reflect/internal/Printers.scala     12  2013  \n",
       "2  test/junit/scala/reflect/internal/PrintersTest...     12  2013  \n",
       "3  src/library/scala/collection/mutable/ArrayOps....     12  2013  \n",
       "4  src/library/scala/collection/immutable/Numeric...     12  2013  "
      ]
     },
     "execution_count": 14,
     "metadata": {},
     "output_type": "execute_result"
    }
   ],
   "source": [
    "# creating new object raw_data which will store the data of those users who only work in scala\n",
    "raw_data = new_data[new_data['file'] == [_ if _.endswith('.scala') else 0 for _ in new_data['file']]]\n",
    "\n",
    "# arranging index of the data\n",
    "raw_data.reset_index(drop = True).head()"
   ]
  },
  {
   "cell_type": "markdown",
   "metadata": {},
   "source": [
    "<h2 style = \"font-family:Trebuchet MS; color: YellowGreen; text-align:center; padding-bottom: 10px\">Prepare for Visualization</h2>\n",
    "<p>\n",
    "    We will calculate the number of pull requests submitted each (calendar) month during the project's lifetime. But this time the data will grouped on <code>year</code> and <code>month</code> only for <code>.scala</code> file and count repository created in those months of each year to perform visualization.\n",
    "</p>"
   ]
  },
  {
   "cell_type": "code",
   "execution_count": 15,
   "metadata": {},
   "outputs": [
    {
     "data": {
      "text/plain": [
       "month  year\n",
       "1      2012     430\n",
       "       2013    2581\n",
       "       2014     902\n",
       "       2015     568\n",
       "       2016     435\n",
       "               ... \n",
       "12     2013    1162\n",
       "       2014     929\n",
       "       2015     435\n",
       "       2016     328\n",
       "       2017     173\n",
       "Name: pid, Length: 74, dtype: int64"
      ]
     },
     "execution_count": 15,
     "metadata": {},
     "output_type": "execute_result"
    }
   ],
   "source": [
    "# object count is created that store repository makes per month of .scala file\n",
    "counts_again = raw_data.groupby(['month', 'year'])['pid'].count()\n",
    "counts_again"
   ]
  },
  {
   "cell_type": "markdown",
   "metadata": {},
   "source": [
    "<p>The object <code>count_again</code> stores data as repository per month between many year's. Using that object again we are going to see visual representation of creating reository but this time only for scala file with respect to months and years.</p>"
   ]
  },
  {
   "cell_type": "code",
   "execution_count": 16,
   "metadata": {},
   "outputs": [
    {
     "data": {
      "text/plain": [
       "Text(0, 0.5, 'Pid')"
      ]
     },
     "execution_count": 16,
     "metadata": {},
     "output_type": "execute_result"
    },
    {
     "data": {
      "image/png": "[encoded data removed]",
      "text/plain": [
       "<Figure size 1728x720 with 1 Axes>"
      ]
     },
     "metadata": {
      "needs_background": "light"
     },
     "output_type": "display_data"
    }
   ],
   "source": [
    "# using plot function we are using to represent all stuf of object counts_again\n",
    "counts_again.plot(kind='bar',figsize=(24,10), color='DeepSkyBlue',fontsize=15)\n",
    "\n",
    "# Title declared for object counts_again\n",
    "plt.title('Scala Project Repository', fontsize=40, color=\"Tomato\", fontname = \"Courier New\")\n",
    "\n",
    "# labelling the chart\n",
    "plt.xlabel('Date', fontsize=30, color=\"DeepSkyBlue\")\n",
    "plt.ylabel('Pid', fontsize=30, color=\"DeepSkyBlue\")"
   ]
  },
  {
   "cell_type": "markdown",
   "metadata": {},
   "source": [
    "<h2 style = \"font-family:Trebuchet MS; color: YellowGreen; text-align:center; padding-bottom: 10px\">Extracting Top 5 Experts of Scala</h2>\n",
    "<p style = \"text-align: justify;\">\n",
    "    As we find out user's on <b>GitHub</b> who work's on <code>.scala</code> file. And, Now it's time to find out top 5 expert from them. We actually suppose that, the user who created more <code>.scala</code> file have more knowledge about scala. According to that firstly, we calculate number of scala file created by all users then finding out top 5 from them. This all are possible by <code>groupby()</code> function. \n",
    "</p>"
   ]
  },
  {
   "cell_type": "code",
   "execution_count": 17,
   "metadata": {},
   "outputs": [
    {
     "data": {
      "text/plain": [
       "user\n",
       "0xmohit           2\n",
       "193s              4\n",
       "2m               20\n",
       "4.00E+06         22\n",
       "AlexeyIvanov8     2\n",
       "                 ..\n",
       "yinxusen          1\n",
       "yllan             4\n",
       "ziggystar        22\n",
       "zsxwing           6\n",
       "zuvizudar         1\n",
       "Name: pid, Length: 464, dtype: int64"
      ]
     },
     "execution_count": 17,
     "metadata": {},
     "output_type": "execute_result"
    }
   ],
   "source": [
    "# Object scala_user stores number of repository created by user's\n",
    "scala_user = new_data.groupby('user')['pid'].count()\n",
    "scala_user"
   ]
  },
  {
   "cell_type": "markdown",
   "metadata": {},
   "source": [
    "<p>Now, we are going to find out top 5 user's who work in scala. The function <code>nlargest</code> is used to find out top 5 from the object <code>scala_user</code>."
   ]
  },
  {
   "cell_type": "code",
   "execution_count": 18,
   "metadata": {
    "scrolled": false
   },
   "outputs": [
    {
     "data": {
      "text/plain": [
       "Text(0, 0.5, 'Pid')"
      ]
     },
     "execution_count": 18,
     "metadata": {},
     "output_type": "execute_result"
    },
    {
     "data": {
      "image/png": "[encoded data removed]",
      "text/plain": [
       "<Figure size 1440x720 with 1 Axes>"
      ]
     },
     "metadata": {
      "needs_background": "light"
     },
     "output_type": "display_data"
    }
   ],
   "source": [
    "# the object top_5 stores top 5 user of scala repository\n",
    "top_5 = scala_user.nlargest(5)\n",
    "\n",
    "# using plot function we are using to represent all stuf of object top_5 \n",
    "top_5.plot(kind='bar', fontsize='15', figsize=(20, 10), color=\"DimGray\")\n",
    "\n",
    "# Title declared for object counts_again\n",
    "plt.title(\"User vs Repository\", fontsize=40, color=\"Tomato\", fontname = \"Courier New\")\n",
    "\n",
    "# labelling the chart\n",
    "plt.xticks(rotation=45)\n",
    "plt.xlabel(\"User's\", fontsize='30', color=\"DimGray\")\n",
    "plt.ylabel(\"Pid\", fontsize='30', color=\"DimGray\")"
   ]
  },
  {
   "cell_type": "markdown",
   "metadata": {},
   "source": [
    "<h2 style = \"font-family:Trebuchet MS; color: YellowGreen; text-align:center; padding-bottom: 10px\">Analysing Only One User</h2>\n",
    "<p>\n",
    "    Above is the visual representation of 5 expert and they are expert as their number of repository is more then other user in scala. Now we have 5 expert users <code>xeno-by</code>, <code>retronym</code>, <code>paulp</code>, <code>adriaanm</code>, <code>lrytz</code> and we are going to see <code>xeno-by</code> process of working in scala. In the last we are going to see visual representation of all experts."
   ]
  },
  {
   "cell_type": "code",
   "execution_count": 19,
   "metadata": {},
   "outputs": [
    {
     "data": {
      "text/html": [
       "<div>\n",
       "<style scoped>\n",
       "    .dataframe tbody tr th:only-of-type {\n",
       "        vertical-align: middle;\n",
       "    }\n",
       "\n",
       "    .dataframe tbody tr th {\n",
       "        vertical-align: top;\n",
       "    }\n",
       "\n",
       "    .dataframe thead th {\n",
       "        text-align: right;\n",
       "    }\n",
       "</style>\n",
       "<table border=\"1\" class=\"dataframe\">\n",
       "  <thead>\n",
       "    <tr style=\"text-align: right;\">\n",
       "      <th></th>\n",
       "      <th>pid</th>\n",
       "      <th>user</th>\n",
       "      <th>date</th>\n",
       "      <th>file</th>\n",
       "      <th>month</th>\n",
       "      <th>year</th>\n",
       "    </tr>\n",
       "  </thead>\n",
       "  <tbody>\n",
       "    <tr>\n",
       "      <th>0</th>\n",
       "      <td>11126653</td>\n",
       "      <td>xeno-by</td>\n",
       "      <td>2013-12-28 19:39:23+00:00</td>\n",
       "      <td>src/reflect/scala/reflect/internal/Mirrors.scala</td>\n",
       "      <td>12</td>\n",
       "      <td>2013</td>\n",
       "    </tr>\n",
       "    <tr>\n",
       "      <th>1</th>\n",
       "      <td>11126653</td>\n",
       "      <td>xeno-by</td>\n",
       "      <td>2013-12-28 19:39:23+00:00</td>\n",
       "      <td>test/junit/scala/reflect/internal/MirrorsTest....</td>\n",
       "      <td>12</td>\n",
       "      <td>2013</td>\n",
       "    </tr>\n",
       "    <tr>\n",
       "      <th>2</th>\n",
       "      <td>11121557</td>\n",
       "      <td>xeno-by</td>\n",
       "      <td>2013-12-27 23:50:56+00:00</td>\n",
       "      <td>test/files/neg/t8104a/Macros_1.scala</td>\n",
       "      <td>12</td>\n",
       "      <td>2013</td>\n",
       "    </tr>\n",
       "    <tr>\n",
       "      <th>3</th>\n",
       "      <td>11121557</td>\n",
       "      <td>xeno-by</td>\n",
       "      <td>2013-12-27 23:50:56+00:00</td>\n",
       "      <td>test/files/neg/t8104a/Test_2.scala</td>\n",
       "      <td>12</td>\n",
       "      <td>2013</td>\n",
       "    </tr>\n",
       "    <tr>\n",
       "      <th>4</th>\n",
       "      <td>11121557</td>\n",
       "      <td>xeno-by</td>\n",
       "      <td>2013-12-27 23:50:56+00:00</td>\n",
       "      <td>test/files/neg/t8104b/Macros_1.scala</td>\n",
       "      <td>12</td>\n",
       "      <td>2013</td>\n",
       "    </tr>\n",
       "  </tbody>\n",
       "</table>\n",
       "</div>"
      ],
      "text/plain": [
       "        pid     user                      date  \\\n",
       "0  11126653  xeno-by 2013-12-28 19:39:23+00:00   \n",
       "1  11126653  xeno-by 2013-12-28 19:39:23+00:00   \n",
       "2  11121557  xeno-by 2013-12-27 23:50:56+00:00   \n",
       "3  11121557  xeno-by 2013-12-27 23:50:56+00:00   \n",
       "4  11121557  xeno-by 2013-12-27 23:50:56+00:00   \n",
       "\n",
       "                                                file  month  year  \n",
       "0   src/reflect/scala/reflect/internal/Mirrors.scala     12  2013  \n",
       "1  test/junit/scala/reflect/internal/MirrorsTest....     12  2013  \n",
       "2               test/files/neg/t8104a/Macros_1.scala     12  2013  \n",
       "3                 test/files/neg/t8104a/Test_2.scala     12  2013  \n",
       "4               test/files/neg/t8104b/Macros_1.scala     12  2013  "
      ]
     },
     "execution_count": 19,
     "metadata": {},
     "output_type": "execute_result"
    }
   ],
   "source": [
    "# created object users which store the name of 5 experts \n",
    "users = ['xeno-by', 'retronym', 'paulp', 'adriaanm', 'lrytz']\n",
    "\n",
    "# final_data is the data which only only contain details of experts\n",
    "final_data = raw_data[raw_data['user'].isin(users)]\n",
    "final_data.reset_index(drop = True).head()"
   ]
  },
  {
   "cell_type": "markdown",
   "metadata": {},
   "source": [
    "<p>\n",
    "    Now we are going to visualize <code>xeno-by</code> progress per year. That how much he/she was growed up per year.\n",
    "</p>"
   ]
  },
  {
   "cell_type": "code",
   "execution_count": 20,
   "metadata": {},
   "outputs": [
    {
     "data": {
      "text/plain": [
       "Text(0, 0.5, 'Repository')"
      ]
     },
     "execution_count": 20,
     "metadata": {},
     "output_type": "execute_result"
    },
    {
     "data": {
      "image/png": "[encoded data removed]",
      "text/plain": [
       "<Figure size 1440x720 with 1 Axes>"
      ]
     },
     "metadata": {
      "needs_background": "light"
     },
     "output_type": "display_data"
    }
   ],
   "source": [
    "# object count1 stores data of 'xeno-by' with number of repository created per year in scala\n",
    "count1 = final_data[final_data['user'] == 'xeno-by'].groupby('year')['pid'].count()\n",
    "\n",
    "# using plot function we are using to represent all stuf of object count1\n",
    "count1.plot(kind = 'line', figsize = (20, 10), fontsize = 15)\n",
    "\n",
    "# Title declared for object counts_again\n",
    "plt.title(\"xeno-by year-wise progress in scala\", fontsize = 40, color = \"Tomato\", fontname = \"Courier New\")\n",
    "\n",
    "# labelling the chart\n",
    "plt.xlabel('years', fontsize = 30, color = \"CornflowerBlue\")\n",
    "plt.ylabel('Repository', fontsize = 30, color = \"CornflowerBlue\")"
   ]
  },
  {
   "cell_type": "markdown",
   "metadata": {},
   "source": [
    "<h2 style = \"font-family:Trebuchet MS; color: YellowGreen; text-align:center; padding-bottom: 10px\">Preparing Data for all experts process per Year</h2>"
   ]
  },
  {
   "cell_type": "code",
   "execution_count": 21,
   "metadata": {},
   "outputs": [
    {
     "data": {
      "text/html": [
       "<div>\n",
       "<style scoped>\n",
       "    .dataframe tbody tr th:only-of-type {\n",
       "        vertical-align: middle;\n",
       "    }\n",
       "\n",
       "    .dataframe tbody tr th {\n",
       "        vertical-align: top;\n",
       "    }\n",
       "\n",
       "    .dataframe thead th {\n",
       "        text-align: right;\n",
       "    }\n",
       "</style>\n",
       "<table border=\"1\" class=\"dataframe\">\n",
       "  <thead>\n",
       "    <tr style=\"text-align: right;\">\n",
       "      <th></th>\n",
       "      <th>user</th>\n",
       "      <th>date</th>\n",
       "      <th>pid</th>\n",
       "    </tr>\n",
       "  </thead>\n",
       "  <tbody>\n",
       "    <tr>\n",
       "      <th>0</th>\n",
       "      <td>adriaanm</td>\n",
       "      <td>2011</td>\n",
       "      <td>12</td>\n",
       "    </tr>\n",
       "    <tr>\n",
       "      <th>1</th>\n",
       "      <td>adriaanm</td>\n",
       "      <td>2012</td>\n",
       "      <td>1258</td>\n",
       "    </tr>\n",
       "    <tr>\n",
       "      <th>2</th>\n",
       "      <td>adriaanm</td>\n",
       "      <td>2013</td>\n",
       "      <td>2030</td>\n",
       "    </tr>\n",
       "    <tr>\n",
       "      <th>3</th>\n",
       "      <td>adriaanm</td>\n",
       "      <td>2014</td>\n",
       "      <td>389</td>\n",
       "    </tr>\n",
       "    <tr>\n",
       "      <th>4</th>\n",
       "      <td>adriaanm</td>\n",
       "      <td>2015</td>\n",
       "      <td>570</td>\n",
       "    </tr>\n",
       "    <tr>\n",
       "      <th>5</th>\n",
       "      <td>adriaanm</td>\n",
       "      <td>2016</td>\n",
       "      <td>540</td>\n",
       "    </tr>\n",
       "    <tr>\n",
       "      <th>6</th>\n",
       "      <td>adriaanm</td>\n",
       "      <td>2017</td>\n",
       "      <td>498</td>\n",
       "    </tr>\n",
       "    <tr>\n",
       "      <th>7</th>\n",
       "      <td>lrytz</td>\n",
       "      <td>2012</td>\n",
       "      <td>196</td>\n",
       "    </tr>\n",
       "    <tr>\n",
       "      <th>8</th>\n",
       "      <td>lrytz</td>\n",
       "      <td>2013</td>\n",
       "      <td>75</td>\n",
       "    </tr>\n",
       "    <tr>\n",
       "      <th>9</th>\n",
       "      <td>lrytz</td>\n",
       "      <td>2014</td>\n",
       "      <td>530</td>\n",
       "    </tr>\n",
       "    <tr>\n",
       "      <th>10</th>\n",
       "      <td>lrytz</td>\n",
       "      <td>2015</td>\n",
       "      <td>1868</td>\n",
       "    </tr>\n",
       "    <tr>\n",
       "      <th>11</th>\n",
       "      <td>lrytz</td>\n",
       "      <td>2016</td>\n",
       "      <td>702</td>\n",
       "    </tr>\n",
       "    <tr>\n",
       "      <th>12</th>\n",
       "      <td>lrytz</td>\n",
       "      <td>2017</td>\n",
       "      <td>1019</td>\n",
       "    </tr>\n",
       "    <tr>\n",
       "      <th>13</th>\n",
       "      <td>lrytz</td>\n",
       "      <td>2018</td>\n",
       "      <td>3</td>\n",
       "    </tr>\n",
       "    <tr>\n",
       "      <th>14</th>\n",
       "      <td>paulp</td>\n",
       "      <td>2012</td>\n",
       "      <td>5712</td>\n",
       "    </tr>\n",
       "    <tr>\n",
       "      <th>15</th>\n",
       "      <td>paulp</td>\n",
       "      <td>2013</td>\n",
       "      <td>2981</td>\n",
       "    </tr>\n",
       "    <tr>\n",
       "      <th>16</th>\n",
       "      <td>paulp</td>\n",
       "      <td>2014</td>\n",
       "      <td>41</td>\n",
       "    </tr>\n",
       "    <tr>\n",
       "      <th>17</th>\n",
       "      <td>paulp</td>\n",
       "      <td>2016</td>\n",
       "      <td>7</td>\n",
       "    </tr>\n",
       "    <tr>\n",
       "      <th>18</th>\n",
       "      <td>paulp</td>\n",
       "      <td>2017</td>\n",
       "      <td>4</td>\n",
       "    </tr>\n",
       "    <tr>\n",
       "      <th>19</th>\n",
       "      <td>retronym</td>\n",
       "      <td>2012</td>\n",
       "      <td>554</td>\n",
       "    </tr>\n",
       "    <tr>\n",
       "      <th>20</th>\n",
       "      <td>retronym</td>\n",
       "      <td>2013</td>\n",
       "      <td>3234</td>\n",
       "    </tr>\n",
       "    <tr>\n",
       "      <th>21</th>\n",
       "      <td>retronym</td>\n",
       "      <td>2014</td>\n",
       "      <td>1599</td>\n",
       "    </tr>\n",
       "    <tr>\n",
       "      <th>22</th>\n",
       "      <td>retronym</td>\n",
       "      <td>2015</td>\n",
       "      <td>1226</td>\n",
       "    </tr>\n",
       "    <tr>\n",
       "      <th>23</th>\n",
       "      <td>retronym</td>\n",
       "      <td>2016</td>\n",
       "      <td>894</td>\n",
       "    </tr>\n",
       "    <tr>\n",
       "      <th>24</th>\n",
       "      <td>retronym</td>\n",
       "      <td>2017</td>\n",
       "      <td>887</td>\n",
       "    </tr>\n",
       "    <tr>\n",
       "      <th>25</th>\n",
       "      <td>xeno-by</td>\n",
       "      <td>2011</td>\n",
       "      <td>79</td>\n",
       "    </tr>\n",
       "    <tr>\n",
       "      <th>26</th>\n",
       "      <td>xeno-by</td>\n",
       "      <td>2012</td>\n",
       "      <td>6743</td>\n",
       "    </tr>\n",
       "    <tr>\n",
       "      <th>27</th>\n",
       "      <td>xeno-by</td>\n",
       "      <td>2013</td>\n",
       "      <td>1938</td>\n",
       "    </tr>\n",
       "    <tr>\n",
       "      <th>28</th>\n",
       "      <td>xeno-by</td>\n",
       "      <td>2014</td>\n",
       "      <td>981</td>\n",
       "    </tr>\n",
       "    <tr>\n",
       "      <th>29</th>\n",
       "      <td>xeno-by</td>\n",
       "      <td>2015</td>\n",
       "      <td>5</td>\n",
       "    </tr>\n",
       "  </tbody>\n",
       "</table>\n",
       "</div>"
      ],
      "text/plain": [
       "        user  date   pid\n",
       "0   adriaanm  2011    12\n",
       "1   adriaanm  2012  1258\n",
       "2   adriaanm  2013  2030\n",
       "3   adriaanm  2014   389\n",
       "4   adriaanm  2015   570\n",
       "5   adriaanm  2016   540\n",
       "6   adriaanm  2017   498\n",
       "7      lrytz  2012   196\n",
       "8      lrytz  2013    75\n",
       "9      lrytz  2014   530\n",
       "10     lrytz  2015  1868\n",
       "11     lrytz  2016   702\n",
       "12     lrytz  2017  1019\n",
       "13     lrytz  2018     3\n",
       "14     paulp  2012  5712\n",
       "15     paulp  2013  2981\n",
       "16     paulp  2014    41\n",
       "17     paulp  2016     7\n",
       "18     paulp  2017     4\n",
       "19  retronym  2012   554\n",
       "20  retronym  2013  3234\n",
       "21  retronym  2014  1599\n",
       "22  retronym  2015  1226\n",
       "23  retronym  2016   894\n",
       "24  retronym  2017   887\n",
       "25   xeno-by  2011    79\n",
       "26   xeno-by  2012  6743\n",
       "27   xeno-by  2013  1938\n",
       "28   xeno-by  2014   981\n",
       "29   xeno-by  2015     5"
      ]
     },
     "execution_count": 21,
     "metadata": {},
     "output_type": "execute_result"
    }
   ],
   "source": [
    "final = final_data.groupby([final_data['user'], final_data['date'].dt.year]).agg({'pid':'count'}).reset_index()\n",
    "final"
   ]
  },
  {
   "cell_type": "markdown",
   "metadata": {},
   "source": [
    "<h2 style = \"font-family:Trebuchet MS; color: YellowGreen; text-align:center; padding-bottom: 10px\">Shorten the Data</h2>"
   ]
  },
  {
   "cell_type": "code",
   "execution_count": 22,
   "metadata": {},
   "outputs": [
    {
     "data": {
      "text/html": [
       "<div>\n",
       "<style scoped>\n",
       "    .dataframe tbody tr th:only-of-type {\n",
       "        vertical-align: middle;\n",
       "    }\n",
       "\n",
       "    .dataframe tbody tr th {\n",
       "        vertical-align: top;\n",
       "    }\n",
       "\n",
       "    .dataframe thead th {\n",
       "        text-align: right;\n",
       "    }\n",
       "</style>\n",
       "<table border=\"1\" class=\"dataframe\">\n",
       "  <thead>\n",
       "    <tr style=\"text-align: right;\">\n",
       "      <th>user</th>\n",
       "      <th>adriaanm</th>\n",
       "      <th>lrytz</th>\n",
       "      <th>paulp</th>\n",
       "      <th>retronym</th>\n",
       "      <th>xeno-by</th>\n",
       "    </tr>\n",
       "    <tr>\n",
       "      <th>date</th>\n",
       "      <th></th>\n",
       "      <th></th>\n",
       "      <th></th>\n",
       "      <th></th>\n",
       "      <th></th>\n",
       "    </tr>\n",
       "  </thead>\n",
       "  <tbody>\n",
       "    <tr>\n",
       "      <th>2011</th>\n",
       "      <td>12</td>\n",
       "      <td>0</td>\n",
       "      <td>0</td>\n",
       "      <td>0</td>\n",
       "      <td>79</td>\n",
       "    </tr>\n",
       "    <tr>\n",
       "      <th>2012</th>\n",
       "      <td>1258</td>\n",
       "      <td>196</td>\n",
       "      <td>5712</td>\n",
       "      <td>554</td>\n",
       "      <td>6743</td>\n",
       "    </tr>\n",
       "    <tr>\n",
       "      <th>2013</th>\n",
       "      <td>2030</td>\n",
       "      <td>75</td>\n",
       "      <td>2981</td>\n",
       "      <td>3234</td>\n",
       "      <td>1938</td>\n",
       "    </tr>\n",
       "    <tr>\n",
       "      <th>2014</th>\n",
       "      <td>389</td>\n",
       "      <td>530</td>\n",
       "      <td>41</td>\n",
       "      <td>1599</td>\n",
       "      <td>981</td>\n",
       "    </tr>\n",
       "    <tr>\n",
       "      <th>2015</th>\n",
       "      <td>570</td>\n",
       "      <td>1868</td>\n",
       "      <td>0</td>\n",
       "      <td>1226</td>\n",
       "      <td>5</td>\n",
       "    </tr>\n",
       "    <tr>\n",
       "      <th>2016</th>\n",
       "      <td>540</td>\n",
       "      <td>702</td>\n",
       "      <td>7</td>\n",
       "      <td>894</td>\n",
       "      <td>0</td>\n",
       "    </tr>\n",
       "    <tr>\n",
       "      <th>2017</th>\n",
       "      <td>498</td>\n",
       "      <td>1019</td>\n",
       "      <td>4</td>\n",
       "      <td>887</td>\n",
       "      <td>0</td>\n",
       "    </tr>\n",
       "    <tr>\n",
       "      <th>2018</th>\n",
       "      <td>0</td>\n",
       "      <td>3</td>\n",
       "      <td>0</td>\n",
       "      <td>0</td>\n",
       "      <td>0</td>\n",
       "    </tr>\n",
       "  </tbody>\n",
       "</table>\n",
       "</div>"
      ],
      "text/plain": [
       "user  adriaanm  lrytz  paulp  retronym  xeno-by\n",
       "date                                           \n",
       "2011        12      0      0         0       79\n",
       "2012      1258    196   5712       554     6743\n",
       "2013      2030     75   2981      3234     1938\n",
       "2014       389    530     41      1599      981\n",
       "2015       570   1868      0      1226        5\n",
       "2016       540    702      7       894        0\n",
       "2017       498   1019      4       887        0\n",
       "2018         0      3      0         0        0"
      ]
     },
     "execution_count": 22,
     "metadata": {},
     "output_type": "execute_result"
    }
   ],
   "source": [
    "top_details = final.pivot_table(index = 'date', columns = \"user\", values = 'pid', fill_value = 0)\n",
    "top_details"
   ]
  },
  {
   "cell_type": "markdown",
   "metadata": {},
   "source": [
    "<h2 style = \"font-family:Trebuchet MS; color: YellowGreen; text-align:center; padding-bottom: 10px\">The Final Result</h2>"
   ]
  },
  {
   "cell_type": "code",
   "execution_count": 23,
   "metadata": {},
   "outputs": [
    {
     "data": {
      "image/png": "[encoded data removed]",
      "text/plain": [
       "<Figure size 1440x720 with 1 Axes>"
      ]
     },
     "metadata": {
      "needs_background": "light"
     },
     "output_type": "display_data"
    }
   ],
   "source": [
    "# using plot function we are using to represent all stuf of object top_details\n",
    "top_details.plot(kind = 'line', figsize = (20, 10), fontsize = 15, linewidth = 3, marker = \"o\", markeredgecolor='black', markersize=12, markeredgewidth=2)\n",
    "\n",
    "# Title declared for object top_details\n",
    "plt.title(\"user's vs repository\", fontsize = '30', color = 'r')\n",
    "plt.title(\"Top 5 user's year-wise progress in scala\", fontsize = 40, color = \"Tomato\", fontname = \"Courier New\")\n",
    "\n",
    "# labelling the chart\n",
    "plt.xlabel('Years', fontsize = 30, color = \"Green\")\n",
    "plt.ylabel('Repository', fontsize = 30, color = \"CornflowerBlue\")\n",
    "\n",
    "# show grid in y axis\n",
    "plt.grid(axis = 'y')"
   ]
  },
  {
   "cell_type": "markdown",
   "metadata": {},
   "source": [
    "<h1 style = \"font-family: Garamond; color: #778899; text-align:center; padding-bottom: 10px; font-size: 40px;\">Conslusion</h1>\n",
    "<p style = \"text-align: justify;\">\n",
    "    At the end of <b><i>Github data analysis of around 10 years of data in this project</i></b>, we observe who contributes most to Scala projects. We used packages like <code>pandas</code>, <code>matplotlib.pyplot</code> that allowed us to work on data frames and to plot various types of Visualisations respectively.<br>\n",
    "With this, we could conclude how time affected the activity of users over around 10 years.\n",
    "Finally, we made a line plot of users which provided us with details of the top 5 users who contributed most to Scala projects in 10 years.\n",
    "</p>"
   ]
  },
  {
   "cell_type": "markdown",
   "metadata": {},
   "source": [
    "<h1 style = \"font-family: Garamond; color: #778899; text-align:center; padding-bottom: 10px; font-size: 40px;\">Process Diagram</h1>\n",
    "<img src = \"Logo/Process-diagram.svg\" width = \"800px\" height = \"100px\">"
   ]
  },
  {
   "cell_type": "markdown",
   "metadata": {},
   "source": [
    "<h1 style = \"font-family: Garamond; color: #778899; text-align:center; padding-bottom: 10px; font-size: 40px;\">Uses</h1>\n",
    "<img src = \"Logo/Uses.png\" width = \"800px\" height = \"100px\">"
   ]
  },
  {
   "cell_type": "markdown",
   "metadata": {},
   "source": [
    "<h1 style = \"font-family: Garamond; color: #778899; text-align:center; padding-bottom: 10px; font-size: 40px;\">References</h1>\n",
    "<ol>\n",
    "<li>Great learning Python for data Science: <a href = 'https://youtu.be/JDcZBzb46ts'>Source Link</a> youtube</li>\n",
    "\n",
    "<li>Pandas guide: <a href = 'https://pandasguide.readthedocs.io/en/latest/'>Source Link</a> official pandas documentation</li>\n",
    "\n",
    "<li>Geeks for geeks Matplotlib and Pandas: <a href = 'https://www.geeksforgeeks.org/pandas-tutorial/'>Source Link</a>.</li>\n",
    "</ol>"
   ]
  }
 ],
 "metadata": {
  "kernelspec": {
   "display_name": "Python 3 (ipykernel)",
   "language": "python",
   "name": "python3"
  },
  "language_info": {
   "codemirror_mode": {
    "name": "ipython",
    "version": 3
   },
   "file_extension": ".py",
   "mimetype": "text/x-python",
   "name": "python",
   "nbconvert_exporter": "python",
   "pygments_lexer": "ipython3",
   "version": "3.9.13"
  }
 },
 "nbformat": 4,
 "nbformat_minor": 4
}
